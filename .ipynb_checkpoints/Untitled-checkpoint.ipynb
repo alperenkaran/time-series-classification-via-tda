{
 "cells": [
  {
   "cell_type": "code",
   "execution_count": 157,
   "id": "33eba3ab-e754-47b3-b8be-8c61d455ddd7",
   "metadata": {},
   "outputs": [
    {
     "ename": "ModuleNotFoundError",
     "evalue": "No module named 'requests'",
     "output_type": "error",
     "traceback": [
      "\u001b[0;31m---------------------------------------------------------------------------\u001b[0m",
      "\u001b[0;31mModuleNotFoundError\u001b[0m                       Traceback (most recent call last)",
      "Cell \u001b[0;32mIn[157], line 1\u001b[0m\n\u001b[0;32m----> 1\u001b[0m \u001b[38;5;28;01mimport\u001b[39;00m \u001b[38;5;21;01mneurokit2\u001b[39;00m \u001b[38;5;28;01mas\u001b[39;00m \u001b[38;5;21;01mnk\u001b[39;00m\n\u001b[1;32m      4\u001b[0m \u001b[38;5;28;01mdef\u001b[39;00m \u001b[38;5;21msimulate_ecg\u001b[39m(heart_rate\u001b[38;5;241m=\u001b[39m\u001b[38;5;241m90\u001b[39m, noise\u001b[38;5;241m=\u001b[39m\u001b[38;5;241m.1\u001b[39m, duration\u001b[38;5;241m=\u001b[39m\u001b[38;5;241m60\u001b[39m):\n\u001b[1;32m      5\u001b[0m     signal \u001b[38;5;241m=\u001b[39m nk\u001b[38;5;241m.\u001b[39mecg_simulate(duration\u001b[38;5;241m=\u001b[39mduration, noise\u001b[38;5;241m=\u001b[39mnoise, heart_rate\u001b[38;5;241m=\u001b[39mheart_rate)\n",
      "File \u001b[0;32m~/opt/anaconda3/envs/time-series-classification-via-tda/lib/python3.8/site-packages/neurokit2/__init__.py:16\u001b[0m\n\u001b[1;32m     14\u001b[0m \u001b[38;5;28;01mfrom\u001b[39;00m \u001b[38;5;21;01m.\u001b[39;00m\u001b[38;5;21;01mbio\u001b[39;00m \u001b[38;5;28;01mimport\u001b[39;00m \u001b[38;5;241m*\u001b[39m\n\u001b[1;32m     15\u001b[0m \u001b[38;5;28;01mfrom\u001b[39;00m \u001b[38;5;21;01m.\u001b[39;00m\u001b[38;5;21;01mcomplexity\u001b[39;00m \u001b[38;5;28;01mimport\u001b[39;00m \u001b[38;5;241m*\u001b[39m\n\u001b[0;32m---> 16\u001b[0m \u001b[38;5;28;01mfrom\u001b[39;00m \u001b[38;5;21;01m.\u001b[39;00m\u001b[38;5;21;01mdata\u001b[39;00m \u001b[38;5;28;01mimport\u001b[39;00m \u001b[38;5;241m*\u001b[39m\n\u001b[1;32m     17\u001b[0m \u001b[38;5;28;01mfrom\u001b[39;00m \u001b[38;5;21;01m.\u001b[39;00m\u001b[38;5;21;01mecg\u001b[39;00m \u001b[38;5;28;01mimport\u001b[39;00m \u001b[38;5;241m*\u001b[39m\n\u001b[1;32m     18\u001b[0m \u001b[38;5;28;01mfrom\u001b[39;00m \u001b[38;5;21;01m.\u001b[39;00m\u001b[38;5;21;01meda\u001b[39;00m \u001b[38;5;28;01mimport\u001b[39;00m \u001b[38;5;241m*\u001b[39m\n",
      "File \u001b[0;32m~/opt/anaconda3/envs/time-series-classification-via-tda/lib/python3.8/site-packages/neurokit2/data/__init__.py:9\u001b[0m\n\u001b[1;32m      7\u001b[0m \u001b[38;5;28;01mfrom\u001b[39;00m \u001b[38;5;21;01m.\u001b[39;00m\u001b[38;5;21;01mread_xdf\u001b[39;00m \u001b[38;5;28;01mimport\u001b[39;00m read_xdf\n\u001b[1;32m      8\u001b[0m \u001b[38;5;28;01mfrom\u001b[39;00m \u001b[38;5;21;01m.\u001b[39;00m\u001b[38;5;21;01mwrite_csv\u001b[39;00m \u001b[38;5;28;01mimport\u001b[39;00m write_csv\n\u001b[0;32m----> 9\u001b[0m \u001b[38;5;28;01mfrom\u001b[39;00m \u001b[38;5;21;01m.\u001b[39;00m\u001b[38;5;21;01mdatabase\u001b[39;00m \u001b[38;5;28;01mimport\u001b[39;00m download_from_url, download_zip\n\u001b[1;32m     12\u001b[0m __all__ \u001b[38;5;241m=\u001b[39m [\n\u001b[1;32m     13\u001b[0m     \u001b[38;5;124m\"\u001b[39m\u001b[38;5;124mread_acqknowledge\u001b[39m\u001b[38;5;124m\"\u001b[39m,\n\u001b[1;32m     14\u001b[0m     \u001b[38;5;124m\"\u001b[39m\u001b[38;5;124mread_bitalino\u001b[39m\u001b[38;5;124m\"\u001b[39m,\n\u001b[0;32m   (...)\u001b[0m\n\u001b[1;32m     20\u001b[0m     \u001b[38;5;124m\"\u001b[39m\u001b[38;5;124mdownload_zip\u001b[39m\u001b[38;5;124m\"\u001b[39m,\n\u001b[1;32m     21\u001b[0m ]\n",
      "File \u001b[0;32m~/opt/anaconda3/envs/time-series-classification-via-tda/lib/python3.8/site-packages/neurokit2/data/database.py:5\u001b[0m\n\u001b[1;32m      2\u001b[0m \u001b[38;5;28;01mimport\u001b[39;00m \u001b[38;5;21;01murllib\u001b[39;00m\u001b[38;5;21;01m.\u001b[39;00m\u001b[38;5;21;01mparse\u001b[39;00m\n\u001b[1;32m      3\u001b[0m \u001b[38;5;28;01mimport\u001b[39;00m \u001b[38;5;21;01mzipfile\u001b[39;00m\n\u001b[0;32m----> 5\u001b[0m \u001b[38;5;28;01mimport\u001b[39;00m \u001b[38;5;21;01mrequests\u001b[39;00m\n\u001b[1;32m      8\u001b[0m \u001b[38;5;28;01mdef\u001b[39;00m \u001b[38;5;21mdownload_from_url\u001b[39m(url, destination_path\u001b[38;5;241m=\u001b[39m\u001b[38;5;28;01mNone\u001b[39;00m):\n\u001b[1;32m      9\u001b[0m \u001b[38;5;250m    \u001b[39m\u001b[38;5;124;03m\"\"\"**Download Files from URLs**\u001b[39;00m\n\u001b[1;32m     10\u001b[0m \n\u001b[1;32m     11\u001b[0m \u001b[38;5;124;03m    Download a file from the given URL and save it to the destination path.\u001b[39;00m\n\u001b[0;32m   (...)\u001b[0m\n\u001b[1;32m     24\u001b[0m \u001b[38;5;124;03m        True if the file was downloaded successfully, False otherwise.\u001b[39;00m\n\u001b[1;32m     25\u001b[0m \u001b[38;5;124;03m    \"\"\"\u001b[39;00m\n",
      "\u001b[0;31mModuleNotFoundError\u001b[0m: No module named 'requests'"
     ]
    }
   ],
   "source": [
    "import neurokit2 as nk\n",
    "\n",
    "\n",
    "def simulate_ecg(heart_rate=90, noise=.1, duration=60):\n",
    "    signal = nk.ecg_simulate(duration=duration, noise=noise, heart_rate=heart_rate)\n",
    "    return signal\n"
   ]
  },
  {
   "cell_type": "code",
   "execution_count": null,
   "id": "bb1032ef-0244-43a4-8b4a-5a698df86feb",
   "metadata": {},
   "outputs": [],
   "source": []
  },
  {
   "cell_type": "code",
   "execution_count": 154,
   "id": "ad391e31-6113-4dda-afe4-3cbd3b638182",
   "metadata": {},
   "outputs": [],
   "source": [
    "def get_embedder(dimension, stride=1):\n",
    "    embedder = SingleTakensEmbedding(\n",
    "        parameters_type=\"fixed\",\n",
    "        n_jobs=2,\n",
    "        time_delay=1,\n",
    "        dimension=dimension,\n",
    "        stride=stride,\n",
    "    )\n",
    "    return embedder"
   ]
  },
  {
   "cell_type": "code",
   "execution_count": 148,
   "id": "e23fb6b4-407a-4585-9682-2cf7844e88cc",
   "metadata": {},
   "outputs": [],
   "source": [
    "from gtda.diagrams import BettiCurve, PersistenceLandscape"
   ]
  },
  {
   "cell_type": "code",
   "execution_count": 153,
   "id": "f03e99cc-6e1f-4bff-8234-5961d26ba856",
   "metadata": {},
   "outputs": [
    {
     "data": {
      "text/plain": [
       "[<matplotlib.lines.Line2D at 0x7f8f81b9c100>]"
      ]
     },
     "execution_count": 153,
     "metadata": {},
     "output_type": "execute_result"
    },
    {
     "data": {
      "image/png": "[encoded data removed]",
      "text/plain": [
       "<Figure size 640x480 with 1 Axes>"
      ]
     },
     "metadata": {},
     "output_type": "display_data"
    }
   ],
   "source": [
    "plt.plot(PersistenceLandscape().fit_transform(dgm)[0][0])"
   ]
  },
  {
   "cell_type": "code",
   "execution_count": null,
   "id": "a1f95f8f-4650-4d40-8864-dd1556fb26e7",
   "metadata": {},
   "outputs": [],
   "source": [
    "gtda.diagrams.PersistenceLandscape"
   ]
  },
  {
   "cell_type": "code",
   "execution_count": 139,
   "id": "ff9b962e-3f3f-4bf1-a023-edaf73b23b70",
   "metadata": {},
   "outputs": [],
   "source": [
    "import numpy as np\n",
    "\n",
    "def calculate_function_norms(function_values, domain_start, domain_end):\n",
    "    # Calculate the step size within the domain\n",
    "    step_size = (domain_end - domain_start) / (len(function_values) - 1)\n",
    "    \n",
    "    # Calculate L1 norm of the function\n",
    "    l1_norm = np.sum(np.abs(function_values)) * step_size\n",
    "    \n",
    "    # Calculate L2 norm of the function\n",
    "    l2_norm = np.sqrt(np.sum(np.square(function_values)) * step_size)\n",
    "    \n",
    "    return l1_norm, l2_norm\n",
    "\n",
    "# Example usage:\n",
    "# function_values = np.array([1, 3, 5, 2, 7, 4])\n",
    "# domain_start = 0\n",
    "# domain_end = 1\n",
    "# l1_norm, l2_norm = calculate_function_norms(function_values, domain_start, domain_end)\n",
    "# print(\"L1 Norm:\", l1_norm)\n",
    "# print(\"L2 Norm:\", l2_norm)\n"
   ]
  },
  {
   "cell_type": "code",
   "execution_count": 140,
   "id": "960bc3ff-6b61-42f3-bd84-74f7d6ddb42d",
   "metadata": {},
   "outputs": [
    {
     "data": {
      "text/plain": [
       "array([[[0, 2, 0],\n",
       "        [3, 5, 0]]])"
      ]
     },
     "execution_count": 140,
     "metadata": {},
     "output_type": "execute_result"
    }
   ],
   "source": [
    "dgm"
   ]
  },
  {
   "cell_type": "code",
   "execution_count": 147,
   "id": "47b0e51c-db78-4d78-aba2-b6e601f51522",
   "metadata": {},
   "outputs": [
    {
     "data": {
      "text/plain": [
       "(3.9998999899989998, 1.9999749973434668)"
      ]
     },
     "execution_count": 147,
     "metadata": {},
     "output_type": "execute_result"
    }
   ],
   "source": [
    "calculate_function_norms(c[0][0], 0, 5)"
   ]
  },
  {
   "cell_type": "code",
   "execution_count": 146,
   "id": "6185667d-ee39-4e33-beb7-becdd4a18541",
   "metadata": {},
   "outputs": [],
   "source": [
    "c = BettiCurve(n_bins=10000).fit_transform(dgm)"
   ]
  },
  {
   "cell_type": "code",
   "execution_count": 144,
   "id": "36295d58-e1e6-4dc8-bc79-997c98841436",
   "metadata": {},
   "outputs": [
    {
     "data": {
      "text/plain": [
       "[<matplotlib.lines.Line2D at 0x7f8f20194490>]"
      ]
     },
     "execution_count": 144,
     "metadata": {},
     "output_type": "execute_result"
    },
    {
     "data": {
      "image/png": "[encoded data removed]",
      "text/plain": [
       "<Figure size 640x480 with 1 Axes>"
      ]
     },
     "metadata": {},
     "output_type": "display_data"
    }
   ],
   "source": [
    "plt.plot(c[0][0])"
   ]
  },
  {
   "cell_type": "code",
   "execution_count": null,
   "id": "546c5187-7dd5-47d2-a5d4-3fc45d323bdb",
   "metadata": {},
   "outputs": [],
   "source": [
    "gtda.diagrams.BettiCurve(n_bins=100, n_jobs=None)"
   ]
  },
  {
   "cell_type": "code",
   "execution_count": 100,
   "id": "330d00e1-eda8-450b-8c39-bdb5406c0a7c",
   "metadata": {},
   "outputs": [],
   "source": [
    "import numpy as np\n",
    "import gudhi\n",
    "\n",
    "def betti_curve_norms(persistence_diagram):\n",
    "    \"\"\"\n",
    "    Compute L1 norm and L2 norm of the Betti curve from a persistence diagram.\n",
    "    \n",
    "    Args:\n",
    "    persistence_diagram (np.ndarray): 2D NumPy array representing the persistence diagram.\n",
    "    \n",
    "    Returns:\n",
    "    float: L1 norm of the Betti curve.\n",
    "    float: L2 norm of the Betti curve.\n",
    "    \"\"\"\n",
    "    # Convert float death values to integers\n",
    "    persistence_diagram[:, 1] = persistence_diagram[:, 1].astype(int)\n",
    "    \n",
    "    # Create a simplex tree from the persistence diagram\n",
    "    simplex_tree = gudhi.SimplexTree()\n",
    "    for point in persistence_diagram:\n",
    "        simplex_tree.insert([point.tolist()], filtration=point[1])\n",
    "    \n",
    "    # Compute Betti curve\n",
    "    betti_curve = simplex_tree.persistent_betti_numbers()\n",
    "    \n",
    "    # Calculate L1 norm of the Betti curve\n",
    "    l1_norm = np.sum(np.abs(np.diff(betti_curve))) * np.mean(np.diff(persistence_diagram[:, 0]))\n",
    "    \n",
    "    # Calculate L2 norm of the Betti curve\n",
    "    l2_norm = np.sqrt(np.sum(np.square(np.diff(betti_curve))) * np.mean(np.diff(persistence_diagram[:, 0])))\n",
    "    \n",
    "    return l1_norm, l2_norm\n"
   ]
  },
  {
   "cell_type": "code",
   "execution_count": 101,
   "id": "51257d18-fb80-4b7d-9884-571aecd768b9",
   "metadata": {},
   "outputs": [],
   "source": []
  },
  {
   "cell_type": "code",
   "execution_count": 103,
   "id": "7e76cbb3-51f3-404a-a04e-d3a1f4b45f61",
   "metadata": {},
   "outputs": [
    {
     "ename": "TypeError",
     "evalue": "betti_curve_norms() missing 1 required positional argument: 'persistence_diagram'",
     "output_type": "error",
     "traceback": [
      "\u001b[0;31m---------------------------------------------------------------------------\u001b[0m",
      "\u001b[0;31mTypeError\u001b[0m                                 Traceback (most recent call last)",
      "Cell \u001b[0;32mIn[103], line 1\u001b[0m\n\u001b[0;32m----> 1\u001b[0m x,y \u001b[38;5;241m=\u001b[39m \u001b[43mbetti_curve_norms\u001b[49m\u001b[43m(\u001b[49m\u001b[43m)\u001b[49m\n",
      "\u001b[0;31mTypeError\u001b[0m: betti_curve_norms() missing 1 required positional argument: 'persistence_diagram'"
     ]
    }
   ],
   "source": [
    "x,y = betti_curve_norms()"
   ]
  },
  {
   "cell_type": "code",
   "execution_count": 94,
   "id": "2f3d1af3-4b60-43b8-a6e5-d6d21bc5a912",
   "metadata": {},
   "outputs": [
    {
     "data": {
      "text/plain": [
       "(2.6666666666666665, 1.632993161855452)"
      ]
     },
     "execution_count": 94,
     "metadata": {},
     "output_type": "execute_result"
    }
   ],
   "source": [
    "x, y"
   ]
  },
  {
   "cell_type": "code",
   "execution_count": 87,
   "id": "70e287ec-a485-459a-9c1d-1993ee2c7c71",
   "metadata": {},
   "outputs": [
    {
     "data": {
      "text/plain": [
       "<matplotlib.collections.PathCollection at 0x7f8f401f2520>"
      ]
     },
     "execution_count": 87,
     "metadata": {},
     "output_type": "execute_result"
    },
    {
     "data": {
      "image/png": "[encoded data removed]",
      "text/plain": [
       "<Figure size 640x480 with 1 Axes>"
      ]
     },
     "metadata": {},
     "output_type": "display_data"
    }
   ],
   "source": [
    "plt.scatter(x, y)"
   ]
  },
  {
   "cell_type": "code",
   "execution_count": null,
   "id": "f05dbea7-80a0-4064-bf11-45d4097d4af4",
   "metadata": {},
   "outputs": [],
   "source": []
  },
  {
   "cell_type": "code",
   "execution_count": 65,
   "id": "871a406f-8ec0-44ea-95c7-787cba1163a1",
   "metadata": {},
   "outputs": [],
   "source": [
    "import persim"
   ]
  },
  {
   "cell_type": "code",
   "execution_count": 66,
   "id": "334fbc6f-b147-45f4-85a4-25caa894dd04",
   "metadata": {},
   "outputs": [
    {
     "data": {
      "text/plain": [
       "'0.3.1'"
      ]
     },
     "execution_count": 66,
     "metadata": {},
     "output_type": "execute_result"
    }
   ],
   "source": [
    "persim.__version__"
   ]
  },
  {
   "cell_type": "code",
   "execution_count": 75,
   "id": "a2c08e06-91dd-40a7-bc5f-440a75a77172",
   "metadata": {},
   "outputs": [
    {
     "name": "stdout",
     "output_type": "stream",
     "text": [
      "Python 3.9.13\n"
     ]
    }
   ],
   "source": [
    "!python -V"
   ]
  },
  {
   "cell_type": "code",
   "execution_count": 78,
   "id": "a75f8823-d50c-47d4-a250-333bc53edc17",
   "metadata": {},
   "outputs": [],
   "source": [
    "from persim import bottleneck, wasserstein"
   ]
  },
  {
   "cell_type": "code",
   "execution_count": 79,
   "id": "9694386f-9712-45b9-8c41-d40a2e0eed9c",
   "metadata": {},
   "outputs": [
    {
     "data": {
      "text/plain": [
       "(7.0710678118654755,\n",
       " array([[ 0.        , -1.        ,  7.07106781],\n",
       "        [-1.        ,  0.        ,  0.        ]]))"
      ]
     },
     "execution_count": 79,
     "metadata": {},
     "output_type": "execute_result"
    }
   ],
   "source": [
    "dgm1 = np.array([[0,10]])\n",
    "dgm2 = np.array([[0,0]])\n",
    "\n",
    "wasserstein(dgm1, dgm2, matching=True)"
   ]
  },
  {
   "cell_type": "code",
   "execution_count": 38,
   "id": "10fb7fe9-28f7-42d7-a509-0d3edfdb9f75",
   "metadata": {},
   "outputs": [
    {
     "ename": "ValueError",
     "evalue": "Input should be a 3D ndarray with a 3rd dimension of 3 components, but there are 2 components.",
     "output_type": "error",
     "traceback": [
      "\u001b[0;31m---------------------------------------------------------------------------\u001b[0m",
      "\u001b[0;31mValueError\u001b[0m                                Traceback (most recent call last)",
      "Cell \u001b[0;32mIn[38], line 4\u001b[0m\n\u001b[1;32m      1\u001b[0m \u001b[38;5;28;01mfrom\u001b[39;00m \u001b[38;5;21;01mgtda\u001b[39;00m\u001b[38;5;21;01m.\u001b[39;00m\u001b[38;5;21;01mdiagrams\u001b[39;00m \u001b[38;5;28;01mimport\u001b[39;00m PersistenceEntropy\n\u001b[1;32m      3\u001b[0m PE \u001b[38;5;241m=\u001b[39m PersistenceEntropy()\n\u001b[0;32m----> 4\u001b[0m features \u001b[38;5;241m=\u001b[39m \u001b[43mPE\u001b[49m\u001b[38;5;241;43m.\u001b[39;49m\u001b[43mfit_transform\u001b[49m\u001b[43m(\u001b[49m\u001b[43mnp\u001b[49m\u001b[38;5;241;43m.\u001b[39;49m\u001b[43marray\u001b[49m\u001b[43m(\u001b[49m\u001b[43m[\u001b[49m\u001b[43m[\u001b[49m\u001b[43m[\u001b[49m\u001b[38;5;241;43m1\u001b[39;49m\u001b[43m,\u001b[49m\u001b[38;5;241;43m2\u001b[39;49m\u001b[43m]\u001b[49m\u001b[43m,\u001b[49m\u001b[43m[\u001b[49m\u001b[38;5;241;43m3\u001b[39;49m\u001b[43m,\u001b[49m\u001b[38;5;241;43m5\u001b[39;49m\u001b[43m]\u001b[49m\u001b[43m,\u001b[49m\u001b[43m \u001b[49m\u001b[43m[\u001b[49m\u001b[38;5;241;43m4\u001b[39;49m\u001b[43m,\u001b[49m\u001b[38;5;241;43m10\u001b[39;49m\u001b[43m]\u001b[49m\u001b[43m]\u001b[49m\u001b[43m]\u001b[49m\u001b[43m)\u001b[49m\u001b[43m)\u001b[49m\n",
      "File \u001b[0;32m~/opt/anaconda3/envs/time-series-classification-via-tda/lib/python3.8/site-packages/gtda/utils/_docs.py:106\u001b[0m, in \u001b[0;36madapt_fit_transform_docs.<locals>.make_new_fit_transform.<locals>.fit_transform_wrapper\u001b[0;34m(*args, **kwargs)\u001b[0m\n\u001b[1;32m    104\u001b[0m \u001b[38;5;129m@wraps\u001b[39m(original_fit_transform)\n\u001b[1;32m    105\u001b[0m \u001b[38;5;28;01mdef\u001b[39;00m \u001b[38;5;21mfit_transform_wrapper\u001b[39m(\u001b[38;5;241m*\u001b[39margs, \u001b[38;5;241m*\u001b[39m\u001b[38;5;241m*\u001b[39mkwargs):\n\u001b[0;32m--> 106\u001b[0m     \u001b[38;5;28;01mreturn\u001b[39;00m \u001b[43moriginal_fit_transform\u001b[49m\u001b[43m(\u001b[49m\u001b[38;5;241;43m*\u001b[39;49m\u001b[43margs\u001b[49m\u001b[43m,\u001b[49m\u001b[43m \u001b[49m\u001b[38;5;241;43m*\u001b[39;49m\u001b[38;5;241;43m*\u001b[39;49m\u001b[43mkwargs\u001b[49m\u001b[43m)\u001b[49m\n",
      "File \u001b[0;32m~/opt/anaconda3/envs/time-series-classification-via-tda/lib/python3.8/site-packages/sklearn/utils/_set_output.py:157\u001b[0m, in \u001b[0;36m_wrap_method_output.<locals>.wrapped\u001b[0;34m(self, X, *args, **kwargs)\u001b[0m\n\u001b[1;32m    155\u001b[0m \u001b[38;5;129m@wraps\u001b[39m(f)\n\u001b[1;32m    156\u001b[0m \u001b[38;5;28;01mdef\u001b[39;00m \u001b[38;5;21mwrapped\u001b[39m(\u001b[38;5;28mself\u001b[39m, X, \u001b[38;5;241m*\u001b[39margs, \u001b[38;5;241m*\u001b[39m\u001b[38;5;241m*\u001b[39mkwargs):\n\u001b[0;32m--> 157\u001b[0m     data_to_wrap \u001b[38;5;241m=\u001b[39m \u001b[43mf\u001b[49m\u001b[43m(\u001b[49m\u001b[38;5;28;43mself\u001b[39;49m\u001b[43m,\u001b[49m\u001b[43m \u001b[49m\u001b[43mX\u001b[49m\u001b[43m,\u001b[49m\u001b[43m \u001b[49m\u001b[38;5;241;43m*\u001b[39;49m\u001b[43margs\u001b[49m\u001b[43m,\u001b[49m\u001b[43m \u001b[49m\u001b[38;5;241;43m*\u001b[39;49m\u001b[38;5;241;43m*\u001b[39;49m\u001b[43mkwargs\u001b[49m\u001b[43m)\u001b[49m\n\u001b[1;32m    158\u001b[0m     \u001b[38;5;28;01mif\u001b[39;00m \u001b[38;5;28misinstance\u001b[39m(data_to_wrap, \u001b[38;5;28mtuple\u001b[39m):\n\u001b[1;32m    159\u001b[0m         \u001b[38;5;66;03m# only wrap the first output for cross decomposition\u001b[39;00m\n\u001b[1;32m    160\u001b[0m         return_tuple \u001b[38;5;241m=\u001b[39m (\n\u001b[1;32m    161\u001b[0m             _wrap_data_with_container(method, data_to_wrap[\u001b[38;5;241m0\u001b[39m], X, \u001b[38;5;28mself\u001b[39m),\n\u001b[1;32m    162\u001b[0m             \u001b[38;5;241m*\u001b[39mdata_to_wrap[\u001b[38;5;241m1\u001b[39m:],\n\u001b[1;32m    163\u001b[0m         )\n",
      "File \u001b[0;32m~/opt/anaconda3/envs/time-series-classification-via-tda/lib/python3.8/site-packages/sklearn/base.py:916\u001b[0m, in \u001b[0;36mTransformerMixin.fit_transform\u001b[0;34m(self, X, y, **fit_params)\u001b[0m\n\u001b[1;32m    912\u001b[0m \u001b[38;5;66;03m# non-optimized default implementation; override when a better\u001b[39;00m\n\u001b[1;32m    913\u001b[0m \u001b[38;5;66;03m# method is possible for a given clustering algorithm\u001b[39;00m\n\u001b[1;32m    914\u001b[0m \u001b[38;5;28;01mif\u001b[39;00m y \u001b[38;5;129;01mis\u001b[39;00m \u001b[38;5;28;01mNone\u001b[39;00m:\n\u001b[1;32m    915\u001b[0m     \u001b[38;5;66;03m# fit method of arity 1 (unsupervised transformation)\u001b[39;00m\n\u001b[0;32m--> 916\u001b[0m     \u001b[38;5;28;01mreturn\u001b[39;00m \u001b[38;5;28;43mself\u001b[39;49m\u001b[38;5;241;43m.\u001b[39;49m\u001b[43mfit\u001b[49m\u001b[43m(\u001b[49m\u001b[43mX\u001b[49m\u001b[43m,\u001b[49m\u001b[43m \u001b[49m\u001b[38;5;241;43m*\u001b[39;49m\u001b[38;5;241;43m*\u001b[39;49m\u001b[43mfit_params\u001b[49m\u001b[43m)\u001b[49m\u001b[38;5;241m.\u001b[39mtransform(X)\n\u001b[1;32m    917\u001b[0m \u001b[38;5;28;01melse\u001b[39;00m:\n\u001b[1;32m    918\u001b[0m     \u001b[38;5;66;03m# fit method of arity 2 (supervised transformation)\u001b[39;00m\n\u001b[1;32m    919\u001b[0m     \u001b[38;5;28;01mreturn\u001b[39;00m \u001b[38;5;28mself\u001b[39m\u001b[38;5;241m.\u001b[39mfit(X, y, \u001b[38;5;241m*\u001b[39m\u001b[38;5;241m*\u001b[39mfit_params)\u001b[38;5;241m.\u001b[39mtransform(X)\n",
      "File \u001b[0;32m~/opt/anaconda3/envs/time-series-classification-via-tda/lib/python3.8/site-packages/gtda/diagrams/features.py:133\u001b[0m, in \u001b[0;36mPersistenceEntropy.fit\u001b[0;34m(self, X, y)\u001b[0m\n\u001b[1;32m    107\u001b[0m \u001b[38;5;28;01mdef\u001b[39;00m \u001b[38;5;21mfit\u001b[39m(\u001b[38;5;28mself\u001b[39m, X, y\u001b[38;5;241m=\u001b[39m\u001b[38;5;28;01mNone\u001b[39;00m):\n\u001b[1;32m    108\u001b[0m \u001b[38;5;250m    \u001b[39m\u001b[38;5;124;03m\"\"\"Store all observed homology dimensions in\u001b[39;00m\n\u001b[1;32m    109\u001b[0m \u001b[38;5;124;03m    :attr:`homology_dimensions_`. Then, return the estimator.\u001b[39;00m\n\u001b[1;32m    110\u001b[0m \n\u001b[0;32m   (...)\u001b[0m\n\u001b[1;32m    131\u001b[0m \n\u001b[1;32m    132\u001b[0m \u001b[38;5;124;03m    \"\"\"\u001b[39;00m\n\u001b[0;32m--> 133\u001b[0m     X \u001b[38;5;241m=\u001b[39m \u001b[43mcheck_diagrams\u001b[49m\u001b[43m(\u001b[49m\u001b[43mX\u001b[49m\u001b[43m)\u001b[49m\n\u001b[1;32m    134\u001b[0m     validate_params(\n\u001b[1;32m    135\u001b[0m         \u001b[38;5;28mself\u001b[39m\u001b[38;5;241m.\u001b[39mget_params(), \u001b[38;5;28mself\u001b[39m\u001b[38;5;241m.\u001b[39m_hyperparameters, exclude\u001b[38;5;241m=\u001b[39m[\u001b[38;5;124m'\u001b[39m\u001b[38;5;124mn_jobs\u001b[39m\u001b[38;5;124m'\u001b[39m])\n\u001b[1;32m    137\u001b[0m     \u001b[38;5;66;03m# Find the unique homology dimensions in the 3D array X passed to `fit`\u001b[39;00m\n\u001b[1;32m    138\u001b[0m     \u001b[38;5;66;03m# assuming that they can all be found in its zero-th entry\u001b[39;00m\n",
      "File \u001b[0;32m~/opt/anaconda3/envs/time-series-classification-via-tda/lib/python3.8/site-packages/gtda/utils/validation.py:57\u001b[0m, in \u001b[0;36mcheck_diagrams\u001b[0;34m(X, copy)\u001b[0m\n\u001b[1;32m     53\u001b[0m     \u001b[38;5;28;01mraise\u001b[39;00m \u001b[38;5;167;01mValueError\u001b[39;00m(\n\u001b[1;32m     54\u001b[0m         \u001b[38;5;124mf\u001b[39m\u001b[38;5;124m\"\u001b[39m\u001b[38;5;124mInput should be a 3D ndarray, the shape is \u001b[39m\u001b[38;5;132;01m{\u001b[39;00mX_array\u001b[38;5;241m.\u001b[39mshape\u001b[38;5;132;01m}\u001b[39;00m\u001b[38;5;124m.\u001b[39m\u001b[38;5;124m\"\u001b[39m\n\u001b[1;32m     55\u001b[0m         )\n\u001b[1;32m     56\u001b[0m \u001b[38;5;28;01mif\u001b[39;00m X_array\u001b[38;5;241m.\u001b[39mshape[\u001b[38;5;241m2\u001b[39m] \u001b[38;5;241m!=\u001b[39m \u001b[38;5;241m3\u001b[39m:\n\u001b[0;32m---> 57\u001b[0m     \u001b[38;5;28;01mraise\u001b[39;00m \u001b[38;5;167;01mValueError\u001b[39;00m(\n\u001b[1;32m     58\u001b[0m         \u001b[38;5;124mf\u001b[39m\u001b[38;5;124m\"\u001b[39m\u001b[38;5;124mInput should be a 3D ndarray with a 3rd dimension of 3 \u001b[39m\u001b[38;5;124m\"\u001b[39m\n\u001b[1;32m     59\u001b[0m         \u001b[38;5;124mf\u001b[39m\u001b[38;5;124m\"\u001b[39m\u001b[38;5;124mcomponents, but there are \u001b[39m\u001b[38;5;132;01m{\u001b[39;00mX_array\u001b[38;5;241m.\u001b[39mshape[\u001b[38;5;241m2\u001b[39m]\u001b[38;5;132;01m}\u001b[39;00m\u001b[38;5;124m components.\u001b[39m\u001b[38;5;124m\"\u001b[39m\n\u001b[1;32m     60\u001b[0m         )\n\u001b[1;32m     62\u001b[0m homology_dimensions \u001b[38;5;241m=\u001b[39m \u001b[38;5;28msorted\u001b[39m(np\u001b[38;5;241m.\u001b[39munique(X_array[\u001b[38;5;241m0\u001b[39m, :, \u001b[38;5;241m2\u001b[39m]))\n\u001b[1;32m     63\u001b[0m \u001b[38;5;28;01mfor\u001b[39;00m dim \u001b[38;5;129;01min\u001b[39;00m homology_dimensions:\n",
      "\u001b[0;31mValueError\u001b[0m: Input should be a 3D ndarray with a 3rd dimension of 3 components, but there are 2 components."
     ]
    }
   ],
   "source": [
    "from gtda.diagrams import PersistenceEntropy\n",
    "\n",
    "PE = PersistenceEntropy()\n",
    "features = PE.fit_transform(np.array([[[1,2],[3,5], [4,10]]]))"
   ]
  },
  {
   "cell_type": "code",
   "execution_count": null,
   "id": "687e3cff-119c-44fe-945d-a18072c4748c",
   "metadata": {},
   "outputs": [],
   "source": []
  },
  {
   "cell_type": "code",
   "execution_count": 33,
   "id": "ac476dce-9f84-4cb1-8500-e81cf8e51c77",
   "metadata": {},
   "outputs": [],
   "source": [
    "from gtda.time_series import SingleTakensEmbedding\n",
    "from gtda.homology import VietorisRipsPersistence\n",
    "from gtda.diagrams import PersistenceEntropy\n",
    "from functools import lru_cache\n",
    "from gtda.images import HeightFiltration\n",
    "import numpy as np\n",
    "from ripser import ripser\n",
    "import numpy as np"
   ]
  },
  {
   "cell_type": "code",
   "execution_count": 34,
   "id": "cae6b708-e097-498e-8c7c-2cfbb7b32bd3",
   "metadata": {},
   "outputs": [],
   "source": [
    "def lower_level_diagram(x):\n",
    "    st = gudhi.SimplexTree()\n",
    "    \n",
    "    for i, value in enumerate(x):\n",
    "        st.insert([i], filtration=value)\n",
    "        \n",
    "    for i in range(len(x) - 1):\n",
    "        st.insert([i, i + 1], filtration=max(x[i], x[i + 1]))\n",
    "        \n",
    "    lower_level_set_persistence = st.persistence(homology_coeff_field=2)\n",
    "    \n",
    "    diagram = np.array([x[1] for x in lower_level_set_persistence])\n",
    "    return diagram"
   ]
  },
  {
   "cell_type": "code",
   "execution_count": null,
   "id": "a4861096-37c9-4a95-bea2-a126a4173347",
   "metadata": {},
   "outputs": [],
   "source": [
    "class PersistenceDiagram:\n",
    "    def __init__(self, values):\n",
    "        self.values = values\n",
    "        self.lives = values[:, 1] - values[:, 0]\n",
    "        \n",
    "    def bottleneck_amplitude(self):\n",
    "        pass\n",
    "    \n",
    "    def wasserstein_amplitude(self, degree):\n",
    "        pass\n",
    "    \n",
    "    def betti_curve_area(self, norm_degree):\n",
    "        pass\n",
    "    \n",
    "    def lanscape_area(self, norm_degree):\n",
    "        pass\n",
    "    \n",
    "    def entropy(self):\n",
    "        pass"
   ]
  },
  {
   "cell_type": "code",
   "execution_count": null,
   "id": "6b1b6576-e5d5-4abd-b166-a1295d0ef0f1",
   "metadata": {},
   "outputs": [],
   "source": [
    "class Subwindow:\n",
    "    def __init__(self, subwindow):\n",
    "        self.subwindow = subwindow\n",
    "        \n",
    "    def get_level_set_diagrams(self):\n",
    "        return {\n",
    "            'lower': lower_level_diagram(self.subwindow),\n",
    "            'upper': upper_level_diagram(self.subwindow)\n",
    "        }\n",
    "        \n",
    "    def get_embedding_diagrams(self, embedding_size):\n",
    "        embedder = get_embedder(dimension=embedding_size, stride=1)\n",
    "        data = embedder.fit_transform(self.subwindow)\n",
    "        diagrams = ripser(data)['dgms']\n",
    "        diagrams = {\n",
    "            'homology0': diagrams[0],\n",
    "            'homology1': diagrams[1]\n",
    "        }\n",
    "        return diagrams"
   ]
  },
  {
   "cell_type": "code",
   "execution_count": 28,
   "id": "229e6f7b-c38a-4f11-b5af-276745bce518",
   "metadata": {},
   "outputs": [],
   "source": [
    "def get_embedder(dimension, stride=1):\n",
    "    embedder = SingleTakensEmbedding(\n",
    "        parameters_type=\"fixed\",\n",
    "        n_jobs=2,\n",
    "        time_delay=1,\n",
    "        dimension=dimension,\n",
    "        stride=stride,\n",
    "    )\n",
    "    return embedder"
   ]
  },
  {
   "cell_type": "code",
   "execution_count": 27,
   "id": "1f04667d-9d5a-4935-b2d2-53952bc36f14",
   "metadata": {},
   "outputs": [],
   "source": [
    " "
   ]
  }
 ],
 "metadata": {
  "kernelspec": {
   "display_name": "time-series-classification-via-tda_env",
   "language": "python",
   "name": "time-series-classification-via-tda_env"
  },
  "language_info": {
   "codemirror_mode": {
    "name": "ipython",
    "version": 3
   },
   "file_extension": ".py",
   "mimetype": "text/x-python",
   "name": "python",
   "nbconvert_exporter": "python",
   "pygments_lexer": "ipython3",
   "version": "3.8.17"
  }
 },
 "nbformat": 4,
 "nbformat_minor": 5
}
