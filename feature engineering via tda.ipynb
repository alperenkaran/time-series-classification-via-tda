{
 "cells": [
  {
   "cell_type": "code",
   "execution_count": 1,
   "id": "dadc2a5a-e727-44be-a993-8de51eddcfdd",
   "metadata": {},
   "outputs": [],
   "source": [
    "import numpy as np\n",
    "import pandas as pd\n",
    "from ripser import ripser\n",
    "\n",
    "# dionysus is used to compute the persistent homology of upper/lower level sets, \n",
    "# and I don't think this library works on windows computers. Try macos/linux.\n",
    "import dionysus as d"
   ]
  },
  {
   "cell_type": "markdown",
   "id": "118fdcb6-1cca-4668-af2f-e417e700ca0e",
   "metadata": {},
   "source": [
    "# Time series classification via Topological Data Analysis"
   ]
  },
  {
   "cell_type": "markdown",
   "id": "fe0ff6ac-a575-4805-9eae-a385bbfa50b1",
   "metadata": {},
   "source": [
    "**To read the paper, please go to** https://doi.org/10.1016/j.eswa.2021.115326"
   ]
  },
  {
   "cell_type": "markdown",
   "id": "8df70e1a-c9cb-4c5d-9be3-c3ad39fb89bd",
   "metadata": {},
   "source": [
    "#### Contents\n",
    "\n",
    "- In Sections 1 and 2, I describe the problem, and explain why subwindowing is important.\n",
    "\n",
    "- In Section 3, I give the codes the functions.\n",
    "\n",
    "- In Section 4, I create features from a random time series."
   ]
  },
  {
   "cell_type": "markdown",
   "id": "9a1c3f26-58f9-400d-bfbf-87a6be96fee7",
   "metadata": {},
   "source": [
    "## Section 1: Sliding windows\n",
    "\n",
    "In a typical time series classification task, we are given a bunch of labeled time series of equal length, and we want to build a model that correctly identifies the class of an unlabeled time series.\n",
    "\n",
    "On the other hand, sometimes we have only one (or a few) time series from each class, not necessarily of equal duration. If each time series is sufficiently long, we can still generate multiple time series from each of them via the method of **sliding windows**.\n",
    "\n",
    "Assume that we have a time series `A = [a_0, a_1, a_2, ..., a_n]` where `n` is large enough. The `sliding_windows` function (below) creates equally sized windows from `A`. For instance,\n",
    "\n",
    "`sliding_windows(A, 4, 2) = [[a_0,a_1,a_2,a_4], [a_2,a_3,a_4,a_5], ..., ]`"
   ]
  },
  {
   "cell_type": "markdown",
   "id": "86a30857-6a98-47b1-8485-6d0952de0a92",
   "metadata": {},
   "source": [
    "![sliding_windows](im1.png)\n",
    "\n",
    "**Figure 1:** Sliding windows from a signal."
   ]
  },
  {
   "cell_type": "code",
   "execution_count": 2,
   "id": "f4d4d59f-e31b-44e5-bc07-1bd2e49d9593",
   "metadata": {},
   "outputs": [],
   "source": [
    "def sliding_windows(y, window_length, window_shift):\n",
    "    return [y[i:i+window_length] for i in range(0, len(y)-window_length+1, window_shift)]"
   ]
  },
  {
   "cell_type": "markdown",
   "id": "566a9c77-bd24-44fc-9454-d599571fc23b",
   "metadata": {},
   "source": [
    "The choice of `window_size` depends on the problem. For example, if you are doing a stress detection task using ECG (electrocardiogram) signals, a window of $2$ seconds is too small to identify stress. On the other hand, a window of $10$ minutes is way too large, because nobody wants to wait that long. A common choice (for stress detection) is $60$ seconds. (Note that `window_size` will depend on the sampling frequency of the signal.)\n",
    "\n",
    "The value of `window_shift` is more of a computational issue. A smaller value of `window_shift` creates more windows.\n",
    "\n",
    "**Caution:** If the `window_shift` is smaller than the `window_size` (which is usually the case), then the windows are overlapping. In order to avoid data leakage between train-test sets, make sure you do train-test split before windowing."
   ]
  },
  {
   "cell_type": "markdown",
   "id": "1b061169-17a6-4dd2-8017-3c4f1ecc0b51",
   "metadata": {},
   "source": [
    "## Section 2: Subwindowing\n",
    "\n",
    "Let's continue with our example above. Generally, after creating the $60$-second sliding windows, a machine learning scientist tries to create some features on each window. The problem is, creating topological features from a long window is computationally expensive. Furthermore, some topological features are very sensitive to noise (e.g. coughing during ECG measurement). So, we can do the following:\n",
    "1. create **subwindows** inside each window\n",
    "2. compute features on each subwindow\n",
    "3. compute the window features by finding the mean and standard deviation of subwindow features."
   ]
  },
  {
   "cell_type": "markdown",
   "id": "a6be7eb0-4a86-4d1e-ba50-a3e5e868c0d5",
   "metadata": {},
   "source": [
    "![subwindowing](im2.png)\n",
    "\n",
    "**Figure 2:** The subwindowing method."
   ]
  },
  {
   "cell_type": "markdown",
   "id": "f6bd1465-cc7b-4743-a731-9efad6507216",
   "metadata": {},
   "source": [
    "### An idea!\n",
    "\n",
    "In the above figure, subwindow 2, ..., subwindow 5 are shared by Window 1 and Window 2. Why should we compute the features from **the same** subwindows over and over again?\n",
    "\n",
    "**Answer:** We shouldn't! So, we first need to find subwindow features, then compute the mean and standard deviations to obtain features for the windows."
   ]
  },
  {
   "cell_type": "markdown",
   "id": "ca1cc18f-51b4-481e-be96-dc59cc099f9f",
   "metadata": {},
   "source": [
    "## Section 3: The functions"
   ]
  },
  {
   "cell_type": "markdown",
   "id": "b281956d-a4ac-403c-9edf-174bd1f0c90e",
   "metadata": {},
   "source": [
    "### Function 1: `sliding_windows`\n",
    "\n",
    "The `sliding_windows` function will be used to create the **subwindows**. We have already given it above, but let's write it again."
   ]
  },
  {
   "cell_type": "code",
   "execution_count": 3,
   "id": "e848257b-9ba5-4dfd-a9e4-6a18c6de2e5e",
   "metadata": {},
   "outputs": [],
   "source": [
    "def sliding_windows(y, subwindow_length, subwindow_shift):\n",
    "    return [y[i:i+subwindow_length] for i in range(0, len(y)-subwindow_length+1, subwindow_shift)]"
   ]
  },
  {
   "cell_type": "markdown",
   "id": "45a188d3-9049-41a6-82bc-3070b0a3fec4",
   "metadata": {},
   "source": [
    "### Function 2: `level_set_persistent_homology`\n",
    "\n",
    "This function is used to compute the persistent homology of upper/lower level sets. For upper level sets, births are greater than deaths."
   ]
  },
  {
   "cell_type": "code",
   "execution_count": 4,
   "id": "a2915e06-910a-4939-9fc9-e5c3dde9c0b6",
   "metadata": {},
   "outputs": [],
   "source": [
    "def level_set_persistent_homology(subwindow, upper = False):\n",
    "    # from the documentation\n",
    "    f_lower_star = d.fill_freudenthal(np.array(subwindow).astype('f4'), reverse = upper)\n",
    "    p = d.homology_persistence(f_lower_star)\n",
    "    dgms = d.init_diagrams(p, f_lower_star)\n",
    "    return np.array([[x.birth, x.death] for x in dgms[0]])"
   ]
  },
  {
   "cell_type": "markdown",
   "id": "4c9ebe53-ee11-464b-811f-84c019cf3b2f",
   "metadata": {},
   "source": [
    "### Function 3: `delay_embedding_persistent_homology`\n",
    "\n",
    "A time-delay embedding of a time series (in this case, time series is the subwindow), converts the time series into a dataset in the $n-$dimensional euclidean space (via the exactly same procedure as sliding windows). Then we can simply compute the persistent homology of the corresponding Rips filtration. Different delay embedding dimensions can capture different topological features."
   ]
  },
  {
   "cell_type": "code",
   "execution_count": 5,
   "id": "edf859d1-2a53-4096-9d74-364131ad7206",
   "metadata": {},
   "outputs": [],
   "source": [
    "def delay_embedding_persistent_homology(subwindow, delay_embedding_dimension, delay_embedding_shift=1, maxdim=1):\n",
    "    data = np.array(sliding_windows(subwindow, delay_embedding_dimension, delay_embedding_shift))\n",
    "    return ripser(data, maxdim=maxdim)['dgms']"
   ]
  },
  {
   "cell_type": "markdown",
   "id": "ba183da7-6365-4a37-8fbf-822f4ac4aabf",
   "metadata": {},
   "source": [
    "### Function 4: `get_diagram_lives`"
   ]
  },
  {
   "cell_type": "code",
   "execution_count": 6,
   "id": "0baea971-aa00-48df-b98d-caa3fa4c6ec3",
   "metadata": {},
   "outputs": [],
   "source": [
    "def get_diagram_lives(diagram):\n",
    "    return diagram[:,1]-diagram[:,0] if len(diagram)>0 else np.array([0])"
   ]
  },
  {
   "cell_type": "markdown",
   "id": "157be0d1-d0f1-449e-94b7-70cc4523c2a7",
   "metadata": {},
   "source": [
    "### Function 5: `get_diagram_entropy`"
   ]
  },
  {
   "cell_type": "code",
   "execution_count": 7,
   "id": "3de6066b-64c7-4ef8-96b6-426be09e81e3",
   "metadata": {},
   "outputs": [],
   "source": [
    "def get_diagram_entropy(lives):\n",
    "    if max(abs(lives)) == 0:\n",
    "        return 0.\n",
    "    else:\n",
    "        normalizedLives = lives/sum(lives)\n",
    "        return sum(-normalizedLives*np.log(normalizedLives))"
   ]
  },
  {
   "cell_type": "markdown",
   "id": "ac85b8dc-ddd8-4d2c-9db1-af1044a08e83",
   "metadata": {},
   "source": [
    "### Function 6: `get_area_under_betti_curve` (for L1 and L2 norms)"
   ]
  },
  {
   "cell_type": "code",
   "execution_count": 8,
   "id": "3d4269bf-fd7d-496a-b8ac-83ef6ca3cc73",
   "metadata": {},
   "outputs": [],
   "source": [
    "def get_area_under_betti_curve(diagram):\n",
    "    result_l1, result_l2 = 0, 0\n",
    "    if len(diagram) == 0:\n",
    "        return [result_l1, result_l2]\n",
    "    else:\n",
    "        allPts = np.concatenate([diagram[:,0],diagram[:,1]])\n",
    "        birthOrDeath = np.concatenate([np.zeros(len(diagram)),np.ones(len(diagram))])\n",
    "        ptsSortIndex = np.argsort(allPts)\n",
    "        ptsSorted, birthOrDeathSorted = allPts[ptsSortIndex], birthOrDeath[ptsSortIndex]\n",
    "        \n",
    "        bettiCurveHeight = 0\n",
    "        for i in range(len(ptsSorted)-1):\n",
    "            if birthOrDeathSorted[i] == 0:\n",
    "                bettiCurveHeight += 1\n",
    "            elif birthOrDeathSorted[i] == 1:\n",
    "                bettiCurveHeight += -1\n",
    "                \n",
    "            result_l1 += bettiCurveHeight*(ptsSorted[i+1]-ptsSorted[i])\n",
    "            result_l2 += (bettiCurveHeight**2)*(ptsSorted[i+1]-ptsSorted[i])\n",
    "            \n",
    "        return [result_l1, np.sqrt(result_l2)]"
   ]
  },
  {
   "cell_type": "markdown",
   "id": "880c0cdb-9913-457c-b95d-a1a963d91dc4",
   "metadata": {},
   "source": [
    "### Function(s) 7: `get_area_under_landscape` (for L1 and L2 norms)"
   ]
  },
  {
   "cell_type": "code",
   "execution_count": 9,
   "id": "f87984ae-a81c-4041-bccd-0b1d4c156c8d",
   "metadata": {},
   "outputs": [],
   "source": [
    "def getLandscapePoints(diagram):\n",
    "    #returns the diagram points which plays a role in first layer landscape\n",
    "    #gets rid of most noisy diagram points, hopefully landscape computation will last shorter\n",
    "    diagram = np.unique(diagram, axis = 0) #delete duplicate rows\n",
    "    diagram = diagram[np.lexsort((diagram[:,1],diagram[:,0]))] #sort by col1 then col0\n",
    "    #running max of col1 equals to col1 is the good rows\n",
    "    return diagram[np.maximum.accumulate(diagram[:,1]) == diagram[:,1]]\n",
    "\n",
    "def getLandscapeReturnPoints(diagram):\n",
    "    diagram = getLandscapePoints(diagram)\n",
    "    diagram = diagram[diagram[:,0].argsort()]\n",
    "    returnPoints = [[diagram[0,0],0]] #birth of first point\n",
    "    for i in range(len(diagram)):\n",
    "        #append peak which appears at (x,y) = ((d+b)/2, (d-b)/2)\n",
    "        returnPoints.append([(diagram[i,1]+diagram[i,0])/2, (diagram[i,1]-diagram[i,0])/2])\n",
    "        if i == len(diagram)-1:\n",
    "            returnPoints.append([diagram[i,1],0])\n",
    "        else:\n",
    "            if diagram[i+1,0] > diagram[i,1]:\n",
    "                returnPoints.append([diagram[i,1],0])\n",
    "                returnPoints.append([diagram[i+1,0],0])\n",
    "            else:\n",
    "                returnPoints.append([(diagram[i,1]+diagram[i+1,0])/2, (diagram[i,1]-diagram[i+1,0])/2])\n",
    "    return np.unique(returnPoints, axis = 0)\n",
    "\n",
    "def l2areaUnderLine(p1,p2):\n",
    "    x1,y1 = p1\n",
    "    x2,y2 = p2\n",
    "    result_l1 = -((x1 - x2)*(y1 + y2))/2\n",
    "    result_l2 = -((x1 - x2)*(y1**2 + y1*y2 + y2**2))/3\n",
    "    return [result_l1, result_l2]\n",
    "\n",
    "def get_area_under_landscape(diagram):\n",
    "    if len(diagram) == 0:\n",
    "        return [0,0]\n",
    "    else:\n",
    "        returnPoints = getLandscapeReturnPoints(diagram)\n",
    "        result_l1, result_l2 = 0, 0\n",
    "        for i in range(len(returnPoints)-1):\n",
    "            area_l1, area_l2 = l2areaUnderLine(returnPoints[i],returnPoints[i+1])\n",
    "            result_l1 += area_l1\n",
    "            result_l2 += area_l2\n",
    "        return [result_l1, np.sqrt(result_l2)]"
   ]
  },
  {
   "cell_type": "markdown",
   "id": "5a72be5b-bf74-4098-af3c-885f21a9ef19",
   "metadata": {},
   "source": [
    "### Function 8: Putting it altogether `get_diagram_features`"
   ]
  },
  {
   "cell_type": "code",
   "execution_count": 10,
   "id": "d965fe9c-1326-4b90-9b0c-13e1e753d570",
   "metadata": {},
   "outputs": [],
   "source": [
    "def get_diagram_features(diagram):\n",
    "    diagram = diagram[~np.any(np.isinf(diagram),axis=1)] #remove rows containing infinity (for zero-th homology class)\n",
    "    lives = get_diagram_lives(diagram)\n",
    "    sumLives = sum(lives)/np.sqrt(2) #feature 0\n",
    "    maxLife = max(lives)/np.sqrt(2) #feature 1\n",
    "    diagramEntropy = get_diagram_entropy(lives) #feature 2\n",
    "    areaBettiL1, areaBettiL2 = get_area_under_betti_curve(diagram) #features 3 and 4\n",
    "    areaLandscapeL1, areaLandscapeL2 = get_area_under_landscape(diagram) #features 5 and 6\n",
    "    result = [sumLives, maxLife, diagramEntropy, areaBettiL1, areaBettiL2, areaLandscapeL1, areaLandscapeL2] \n",
    "    return result"
   ]
  },
  {
   "cell_type": "markdown",
   "id": "2cf61a32-f0e9-4908-82d0-63f411669d56",
   "metadata": {},
   "source": [
    "### Other functions"
   ]
  },
  {
   "cell_type": "code",
   "execution_count": 11,
   "id": "7f6c3180-f157-42f7-a115-24dbd15e8ada",
   "metadata": {},
   "outputs": [],
   "source": [
    "# convert pd.Series([[1,2,3],[4,5,6]]) to pd.DataFrame([[1,2,3],[4,5,6]])\n",
    "\n",
    "def pd_series_to_dataframe(series):\n",
    "    # https://stackoverflow.com/a/45901074/8773741\n",
    "    return pd.DataFrame.from_dict(dict(zip(series.index, series.values))).T"
   ]
  },
  {
   "cell_type": "markdown",
   "id": "3e1e7c8c-652d-4f6e-aaf7-9149a6cbf7b8",
   "metadata": {},
   "source": [
    "## Section 4: An example\n",
    "\n",
    "Given a long time series, the below codes compute topological features."
   ]
  },
  {
   "cell_type": "code",
   "execution_count": 12,
   "id": "0a1879c1-fb42-4daa-ac25-6916fd7ae694",
   "metadata": {},
   "outputs": [],
   "source": [
    "time_series = np.random.randint(20, size=3000)"
   ]
  },
  {
   "cell_type": "code",
   "execution_count": 13,
   "id": "fc532c45-0808-4c9e-a4d3-6e5968cd7db7",
   "metadata": {},
   "outputs": [],
   "source": [
    "subwindow_size = 50\n",
    "subwindow_shift = 10\n",
    "\n",
    "subwindows = sliding_windows(time_series, subwindow_size, subwindow_shift)\n",
    "subwindows = pd.Series(subwindows)"
   ]
  },
  {
   "cell_type": "code",
   "execution_count": 14,
   "id": "2611221d-0766-4dcf-a5ee-6452243c2b3e",
   "metadata": {},
   "outputs": [],
   "source": [
    "lower_level_diagrams = subwindows.map(lambda x: level_set_persistent_homology(x, upper = False))\n",
    "upper_level_diagrams = subwindows.map(lambda x: level_set_persistent_homology(x, upper = True))"
   ]
  },
  {
   "cell_type": "code",
   "execution_count": 15,
   "id": "0ab2136a-2d00-4063-b0a3-b23d4fdeeb22",
   "metadata": {},
   "outputs": [],
   "source": [
    "# let's try two different delay embedding dimensions\n",
    "dim1, dim2 = 3, 5\n",
    "\n",
    "rips_diagrams_dim1 = subwindows.map(lambda x: delay_embedding_persistent_homology(x, dim1))\n",
    "rips_diagrams_dim2 = subwindows.map(lambda x: delay_embedding_persistent_homology(x, dim2))"
   ]
  },
  {
   "cell_type": "code",
   "execution_count": 16,
   "id": "a51f289e-24f2-4705-ba84-a0235b6ebdd5",
   "metadata": {},
   "outputs": [],
   "source": [
    "# the rips diagrams contain two diagrams from homology classes 0 and 1. Let's split them\n",
    "\n",
    "rips_diagrams_dim1_H0 = rips_diagrams_dim1.map(lambda x: x[0])\n",
    "rips_diagrams_dim1_H1 = rips_diagrams_dim1.map(lambda x: x[1])\n",
    "\n",
    "rips_diagrams_dim2_H0 = rips_diagrams_dim2.map(lambda x: x[0])\n",
    "rips_diagrams_dim2_H1 = rips_diagrams_dim2.map(lambda x: x[1])"
   ]
  },
  {
   "cell_type": "code",
   "execution_count": 17,
   "id": "7fe5f4f5-8c14-45ed-ad67-4515458d67fc",
   "metadata": {},
   "outputs": [],
   "source": [
    "features_lower_level = lower_level_diagrams.map(get_diagram_features)\n",
    "features_upper_level = upper_level_diagrams.map(get_diagram_features)\n",
    "\n",
    "features_rips_dim1_H0 = rips_diagrams_dim1_H0.map(get_diagram_features)\n",
    "features_rips_dim1_H1 = rips_diagrams_dim1_H1.map(get_diagram_features)\n",
    "\n",
    "features_rips_dim2_H0 = rips_diagrams_dim2_H0.map(get_diagram_features)\n",
    "features_rips_dim2_H1 = rips_diagrams_dim2_H1.map(get_diagram_features)"
   ]
  },
  {
   "cell_type": "code",
   "execution_count": 18,
   "id": "65146346-0fde-4161-8e70-85b344f9f3da",
   "metadata": {},
   "outputs": [],
   "source": [
    "features_lower_level = pd_series_to_dataframe(features_lower_level)\n",
    "features_upper_level = pd_series_to_dataframe(features_upper_level)\n",
    "\n",
    "features_rips_dim1_H0 = pd_series_to_dataframe(features_rips_dim1_H0)\n",
    "features_rips_dim1_H1 = pd_series_to_dataframe(features_rips_dim1_H1)\n",
    "\n",
    "features_rips_dim2_H0 = pd_series_to_dataframe(features_rips_dim2_H0)\n",
    "features_rips_dim2_H1 = pd_series_to_dataframe(features_rips_dim2_H1)"
   ]
  },
  {
   "cell_type": "code",
   "execution_count": 19,
   "id": "bf3aeea5-a3b8-411d-93a2-32a049bf0f7e",
   "metadata": {},
   "outputs": [],
   "source": [
    "# now merge all features (this creates duplicate column names, we'll take care of it later)\n",
    "all_subwindow_features = pd.concat([features_lower_level, features_upper_level, \n",
    "                                    features_rips_dim1_H0, features_rips_dim1_H1, \n",
    "                                    features_rips_dim2_H0, features_rips_dim2_H1], axis=1)"
   ]
  },
  {
   "cell_type": "code",
   "execution_count": 20,
   "id": "a0fba6b4-ef6b-486f-a3ec-6dc4f1dddd0d",
   "metadata": {},
   "outputs": [],
   "source": [
    "# now if the subwindow_shift is the same as window_shift\n",
    "# then finding window features is quite easy actually\n",
    "\n",
    "window_size = 140 # then how many subwindows are there in a window? Answer: 10\n",
    "\n",
    "window_features_mean = all_subwindow_features.rolling(10).mean()\n",
    "window_features_std = all_subwindow_features.rolling(10).std()\n",
    "\n",
    "window_features = pd.concat([window_features_mean, window_features_std], axis=1).dropna()\n",
    "\n",
    "window_features.columns = np.arange(window_features.shape[1]) #reset column names"
   ]
  },
  {
   "cell_type": "code",
   "execution_count": 21,
   "id": "c7c952cc-e58e-4194-95b3-ffe06dd947f2",
   "metadata": {},
   "outputs": [
    {
     "data": {
      "text/html": [
       "<div>\n",
       "<style scoped>\n",
       "    .dataframe tbody tr th:only-of-type {\n",
       "        vertical-align: middle;\n",
       "    }\n",
       "\n",
       "    .dataframe tbody tr th {\n",
       "        vertical-align: top;\n",
       "    }\n",
       "\n",
       "    .dataframe thead th {\n",
       "        text-align: right;\n",
       "    }\n",
       "</style>\n",
       "<table border=\"1\" class=\"dataframe\">\n",
       "  <thead>\n",
       "    <tr style=\"text-align: right;\">\n",
       "      <th></th>\n",
       "      <th>0</th>\n",
       "      <th>1</th>\n",
       "      <th>2</th>\n",
       "      <th>3</th>\n",
       "      <th>4</th>\n",
       "      <th>5</th>\n",
       "      <th>6</th>\n",
       "      <th>7</th>\n",
       "      <th>8</th>\n",
       "      <th>9</th>\n",
       "      <th>...</th>\n",
       "      <th>74</th>\n",
       "      <th>75</th>\n",
       "      <th>76</th>\n",
       "      <th>77</th>\n",
       "      <th>78</th>\n",
       "      <th>79</th>\n",
       "      <th>80</th>\n",
       "      <th>81</th>\n",
       "      <th>82</th>\n",
       "      <th>83</th>\n",
       "    </tr>\n",
       "  </thead>\n",
       "  <tbody>\n",
       "    <tr>\n",
       "      <th>9</th>\n",
       "      <td>99.914188</td>\n",
       "      <td>13.293607</td>\n",
       "      <td>2.471067</td>\n",
       "      <td>141.3</td>\n",
       "      <td>35.852419</td>\n",
       "      <td>89.225</td>\n",
       "      <td>23.684685</td>\n",
       "      <td>-97.934289</td>\n",
       "      <td>-0.707107</td>\n",
       "      <td>2.440248</td>\n",
       "      <td>...</td>\n",
       "      <td>4.626928</td>\n",
       "      <td>9.414970</td>\n",
       "      <td>2.304051</td>\n",
       "      <td>3.334418</td>\n",
       "      <td>0.345788</td>\n",
       "      <td>0.189828</td>\n",
       "      <td>4.715579</td>\n",
       "      <td>2.726683</td>\n",
       "      <td>1.021055</td>\n",
       "      <td>0.371421</td>\n",
       "    </tr>\n",
       "    <tr>\n",
       "      <th>10</th>\n",
       "      <td>101.469823</td>\n",
       "      <td>13.293607</td>\n",
       "      <td>2.490866</td>\n",
       "      <td>143.5</td>\n",
       "      <td>36.430342</td>\n",
       "      <td>88.400</td>\n",
       "      <td>23.535329</td>\n",
       "      <td>-100.338452</td>\n",
       "      <td>-0.707107</td>\n",
       "      <td>2.458448</td>\n",
       "      <td>...</td>\n",
       "      <td>4.074804</td>\n",
       "      <td>7.612124</td>\n",
       "      <td>1.832441</td>\n",
       "      <td>3.235006</td>\n",
       "      <td>0.377862</td>\n",
       "      <td>0.182781</td>\n",
       "      <td>4.574990</td>\n",
       "      <td>2.632738</td>\n",
       "      <td>1.061476</td>\n",
       "      <td>0.395625</td>\n",
       "    </tr>\n",
       "    <tr>\n",
       "      <th>11</th>\n",
       "      <td>102.389062</td>\n",
       "      <td>13.293607</td>\n",
       "      <td>2.495983</td>\n",
       "      <td>144.8</td>\n",
       "      <td>36.719889</td>\n",
       "      <td>88.400</td>\n",
       "      <td>23.535329</td>\n",
       "      <td>-102.176930</td>\n",
       "      <td>-0.707107</td>\n",
       "      <td>2.474227</td>\n",
       "      <td>...</td>\n",
       "      <td>3.944045</td>\n",
       "      <td>6.980378</td>\n",
       "      <td>1.667795</td>\n",
       "      <td>3.204138</td>\n",
       "      <td>0.388334</td>\n",
       "      <td>0.167502</td>\n",
       "      <td>4.531336</td>\n",
       "      <td>2.594778</td>\n",
       "      <td>1.074014</td>\n",
       "      <td>0.405304</td>\n",
       "    </tr>\n",
       "    <tr>\n",
       "      <th>12</th>\n",
       "      <td>105.429621</td>\n",
       "      <td>13.293607</td>\n",
       "      <td>2.508778</td>\n",
       "      <td>149.1</td>\n",
       "      <td>37.579352</td>\n",
       "      <td>88.400</td>\n",
       "      <td>23.535329</td>\n",
       "      <td>-105.783174</td>\n",
       "      <td>-0.848528</td>\n",
       "      <td>2.489464</td>\n",
       "      <td>...</td>\n",
       "      <td>5.240364</td>\n",
       "      <td>7.548730</td>\n",
       "      <td>1.806050</td>\n",
       "      <td>3.416763</td>\n",
       "      <td>0.338812</td>\n",
       "      <td>0.169997</td>\n",
       "      <td>4.832033</td>\n",
       "      <td>3.088973</td>\n",
       "      <td>0.887084</td>\n",
       "      <td>0.337072</td>\n",
       "    </tr>\n",
       "    <tr>\n",
       "      <th>13</th>\n",
       "      <td>108.611602</td>\n",
       "      <td>13.222897</td>\n",
       "      <td>2.524017</td>\n",
       "      <td>153.6</td>\n",
       "      <td>38.664100</td>\n",
       "      <td>87.475</td>\n",
       "      <td>23.349089</td>\n",
       "      <td>-107.692363</td>\n",
       "      <td>-0.919239</td>\n",
       "      <td>2.498299</td>\n",
       "      <td>...</td>\n",
       "      <td>5.689016</td>\n",
       "      <td>7.583974</td>\n",
       "      <td>1.811648</td>\n",
       "      <td>4.097701</td>\n",
       "      <td>0.290878</td>\n",
       "      <td>0.157632</td>\n",
       "      <td>5.795024</td>\n",
       "      <td>3.273524</td>\n",
       "      <td>0.719581</td>\n",
       "      <td>0.325961</td>\n",
       "    </tr>\n",
       "    <tr>\n",
       "      <th>...</th>\n",
       "      <td>...</td>\n",
       "      <td>...</td>\n",
       "      <td>...</td>\n",
       "      <td>...</td>\n",
       "      <td>...</td>\n",
       "      <td>...</td>\n",
       "      <td>...</td>\n",
       "      <td>...</td>\n",
       "      <td>...</td>\n",
       "      <td>...</td>\n",
       "      <td>...</td>\n",
       "      <td>...</td>\n",
       "      <td>...</td>\n",
       "      <td>...</td>\n",
       "      <td>...</td>\n",
       "      <td>...</td>\n",
       "      <td>...</td>\n",
       "      <td>...</td>\n",
       "      <td>...</td>\n",
       "      <td>...</td>\n",
       "      <td>...</td>\n",
       "    </tr>\n",
       "    <tr>\n",
       "      <th>291</th>\n",
       "      <td>89.943983</td>\n",
       "      <td>12.869343</td>\n",
       "      <td>2.472732</td>\n",
       "      <td>127.2</td>\n",
       "      <td>32.426040</td>\n",
       "      <td>87.450</td>\n",
       "      <td>23.207065</td>\n",
       "      <td>-90.792511</td>\n",
       "      <td>-0.919239</td>\n",
       "      <td>2.473522</td>\n",
       "      <td>...</td>\n",
       "      <td>4.504374</td>\n",
       "      <td>4.333652</td>\n",
       "      <td>1.134470</td>\n",
       "      <td>2.002955</td>\n",
       "      <td>0.564904</td>\n",
       "      <td>0.137727</td>\n",
       "      <td>2.832606</td>\n",
       "      <td>1.753539</td>\n",
       "      <td>1.111683</td>\n",
       "      <td>0.487081</td>\n",
       "    </tr>\n",
       "    <tr>\n",
       "      <th>292</th>\n",
       "      <td>90.297536</td>\n",
       "      <td>13.010765</td>\n",
       "      <td>2.475140</td>\n",
       "      <td>127.7</td>\n",
       "      <td>32.886785</td>\n",
       "      <td>87.175</td>\n",
       "      <td>23.240009</td>\n",
       "      <td>-90.863221</td>\n",
       "      <td>-0.919239</td>\n",
       "      <td>2.478452</td>\n",
       "      <td>...</td>\n",
       "      <td>3.634545</td>\n",
       "      <td>4.529608</td>\n",
       "      <td>1.189249</td>\n",
       "      <td>2.072328</td>\n",
       "      <td>0.548944</td>\n",
       "      <td>0.144147</td>\n",
       "      <td>2.930714</td>\n",
       "      <td>1.755351</td>\n",
       "      <td>1.055936</td>\n",
       "      <td>0.468956</td>\n",
       "    </tr>\n",
       "    <tr>\n",
       "      <th>293</th>\n",
       "      <td>91.853171</td>\n",
       "      <td>13.010765</td>\n",
       "      <td>2.487391</td>\n",
       "      <td>129.9</td>\n",
       "      <td>33.620976</td>\n",
       "      <td>87.175</td>\n",
       "      <td>23.240009</td>\n",
       "      <td>-92.772410</td>\n",
       "      <td>-0.919239</td>\n",
       "      <td>2.481350</td>\n",
       "      <td>...</td>\n",
       "      <td>3.645570</td>\n",
       "      <td>4.203255</td>\n",
       "      <td>1.103955</td>\n",
       "      <td>2.276539</td>\n",
       "      <td>0.547755</td>\n",
       "      <td>0.170094</td>\n",
       "      <td>3.219512</td>\n",
       "      <td>1.754783</td>\n",
       "      <td>1.141466</td>\n",
       "      <td>0.469892</td>\n",
       "    </tr>\n",
       "    <tr>\n",
       "      <th>294</th>\n",
       "      <td>91.641039</td>\n",
       "      <td>12.869343</td>\n",
       "      <td>2.487200</td>\n",
       "      <td>129.6</td>\n",
       "      <td>33.751411</td>\n",
       "      <td>85.375</td>\n",
       "      <td>22.872632</td>\n",
       "      <td>-93.903781</td>\n",
       "      <td>-0.919239</td>\n",
       "      <td>2.484185</td>\n",
       "      <td>...</td>\n",
       "      <td>3.566638</td>\n",
       "      <td>4.354435</td>\n",
       "      <td>1.144669</td>\n",
       "      <td>2.001418</td>\n",
       "      <td>0.542879</td>\n",
       "      <td>0.127310</td>\n",
       "      <td>2.830432</td>\n",
       "      <td>1.658470</td>\n",
       "      <td>1.190582</td>\n",
       "      <td>0.475835</td>\n",
       "    </tr>\n",
       "    <tr>\n",
       "      <th>295</th>\n",
       "      <td>91.923882</td>\n",
       "      <td>12.798633</td>\n",
       "      <td>2.483445</td>\n",
       "      <td>130.0</td>\n",
       "      <td>33.981955</td>\n",
       "      <td>84.450</td>\n",
       "      <td>22.686392</td>\n",
       "      <td>-94.045202</td>\n",
       "      <td>-0.848528</td>\n",
       "      <td>2.485260</td>\n",
       "      <td>...</td>\n",
       "      <td>2.846754</td>\n",
       "      <td>5.589175</td>\n",
       "      <td>1.449384</td>\n",
       "      <td>1.742941</td>\n",
       "      <td>0.557324</td>\n",
       "      <td>0.135572</td>\n",
       "      <td>2.464891</td>\n",
       "      <td>1.439514</td>\n",
       "      <td>1.254634</td>\n",
       "      <td>0.499902</td>\n",
       "    </tr>\n",
       "  </tbody>\n",
       "</table>\n",
       "<p>287 rows × 84 columns</p>\n",
       "</div>"
      ],
      "text/plain": [
       "             0          1         2      3          4       5          6   \\\n",
       "9     99.914188  13.293607  2.471067  141.3  35.852419  89.225  23.684685   \n",
       "10   101.469823  13.293607  2.490866  143.5  36.430342  88.400  23.535329   \n",
       "11   102.389062  13.293607  2.495983  144.8  36.719889  88.400  23.535329   \n",
       "12   105.429621  13.293607  2.508778  149.1  37.579352  88.400  23.535329   \n",
       "13   108.611602  13.222897  2.524017  153.6  38.664100  87.475  23.349089   \n",
       "..          ...        ...       ...    ...        ...     ...        ...   \n",
       "291   89.943983  12.869343  2.472732  127.2  32.426040  87.450  23.207065   \n",
       "292   90.297536  13.010765  2.475140  127.7  32.886785  87.175  23.240009   \n",
       "293   91.853171  13.010765  2.487391  129.9  33.620976  87.175  23.240009   \n",
       "294   91.641039  12.869343  2.487200  129.6  33.751411  85.375  22.872632   \n",
       "295   91.923882  12.798633  2.483445  130.0  33.981955  84.450  22.686392   \n",
       "\n",
       "             7         8         9   ...        74        75        76  \\\n",
       "9    -97.934289 -0.707107  2.440248  ...  4.626928  9.414970  2.304051   \n",
       "10  -100.338452 -0.707107  2.458448  ...  4.074804  7.612124  1.832441   \n",
       "11  -102.176930 -0.707107  2.474227  ...  3.944045  6.980378  1.667795   \n",
       "12  -105.783174 -0.848528  2.489464  ...  5.240364  7.548730  1.806050   \n",
       "13  -107.692363 -0.919239  2.498299  ...  5.689016  7.583974  1.811648   \n",
       "..          ...       ...       ...  ...       ...       ...       ...   \n",
       "291  -90.792511 -0.919239  2.473522  ...  4.504374  4.333652  1.134470   \n",
       "292  -90.863221 -0.919239  2.478452  ...  3.634545  4.529608  1.189249   \n",
       "293  -92.772410 -0.919239  2.481350  ...  3.645570  4.203255  1.103955   \n",
       "294  -93.903781 -0.919239  2.484185  ...  3.566638  4.354435  1.144669   \n",
       "295  -94.045202 -0.848528  2.485260  ...  2.846754  5.589175  1.449384   \n",
       "\n",
       "           77        78        79        80        81        82        83  \n",
       "9    3.334418  0.345788  0.189828  4.715579  2.726683  1.021055  0.371421  \n",
       "10   3.235006  0.377862  0.182781  4.574990  2.632738  1.061476  0.395625  \n",
       "11   3.204138  0.388334  0.167502  4.531336  2.594778  1.074014  0.405304  \n",
       "12   3.416763  0.338812  0.169997  4.832033  3.088973  0.887084  0.337072  \n",
       "13   4.097701  0.290878  0.157632  5.795024  3.273524  0.719581  0.325961  \n",
       "..        ...       ...       ...       ...       ...       ...       ...  \n",
       "291  2.002955  0.564904  0.137727  2.832606  1.753539  1.111683  0.487081  \n",
       "292  2.072328  0.548944  0.144147  2.930714  1.755351  1.055936  0.468956  \n",
       "293  2.276539  0.547755  0.170094  3.219512  1.754783  1.141466  0.469892  \n",
       "294  2.001418  0.542879  0.127310  2.830432  1.658470  1.190582  0.475835  \n",
       "295  1.742941  0.557324  0.135572  2.464891  1.439514  1.254634  0.499902  \n",
       "\n",
       "[287 rows x 84 columns]"
      ]
     },
     "execution_count": 21,
     "metadata": {},
     "output_type": "execute_result"
    }
   ],
   "source": [
    "window_features"
   ]
  },
  {
   "cell_type": "markdown",
   "id": "5f978443-017d-4fbb-9224-146a9d07a5ba",
   "metadata": {},
   "source": [
    "So, we ended up with 287 training examples with 84 features. \n",
    "\n",
    "Many columns can be correlated though.\n",
    "\n",
    "Lastly, do not forget to scale your features."
   ]
  }
 ],
 "metadata": {
  "kernelspec": {
   "display_name": "Python 3",
   "language": "python",
   "name": "python3"
  },
  "language_info": {
   "codemirror_mode": {
    "name": "ipython",
    "version": 3
   },
   "file_extension": ".py",
   "mimetype": "text/x-python",
   "name": "python",
   "nbconvert_exporter": "python",
   "pygments_lexer": "ipython3",
   "version": "3.8.8"
  }
 },
 "nbformat": 4,
 "nbformat_minor": 5
}
